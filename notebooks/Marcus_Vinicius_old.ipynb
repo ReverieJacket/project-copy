{
 "cells": [
  {
   "cell_type": "markdown",
   "id": "e2bf7227",
   "metadata": {},
   "source": [
    "**Modelo Linear para tentar prever o consumo de um carro**"
   ]
  },
  {
   "cell_type": "markdown",
   "id": "b7df10e7",
   "metadata": {},
   "source": [
    "mpg: milhas por galão (medida de consumo dos EUA, como km/L), nossa variável alvo\n",
    "cylinders: número de cinlindros do motor\n",
    "displacement: deslocamento do motor, em polegadas cúbicas\n",
    "horsepower: potência do carro, em HP\n",
    "weight: peso do carro, em libras\n",
    "acceleration: tempo, em segundos, para acelerar de 0 a 60 mph (milhas por hora)\n",
    "model year: ano de fabricação do carro\n",
    "origin: região da origem do carro (1 - Americano / 2 - Europeu / 3 - Asiático)\n",
    "car name: nome do carro"
   ]
  },
  {
   "cell_type": "code",
   "execution_count": 4,
   "id": "808d2a0a",
   "metadata": {},
   "outputs": [],
   "source": [
    "import pandas as pd\n",
    "import numpy as np\n",
    "import scipy.stats as st\n",
    "import matplotlib.pyplot as plt"
   ]
  },
  {
   "cell_type": "code",
   "execution_count": 5,
   "id": "19c3e1d2",
   "metadata": {},
   "outputs": [],
   "source": [
    "import os\n",
    "import sys\n",
    "module_path = os.path.abspath(os.path.join('..'))\n",
    "if module_path not in sys.path:\n",
    "    sys.path.append(module_path)"
   ]
  },
  {
   "cell_type": "code",
   "execution_count": 6,
   "id": "3253f506",
   "metadata": {},
   "outputs": [
    {
     "data": {
      "text/html": [
       "<div>\n",
       "<style scoped>\n",
       "    .dataframe tbody tr th:only-of-type {\n",
       "        vertical-align: middle;\n",
       "    }\n",
       "\n",
       "    .dataframe tbody tr th {\n",
       "        vertical-align: top;\n",
       "    }\n",
       "\n",
       "    .dataframe thead th {\n",
       "        text-align: right;\n",
       "    }\n",
       "</style>\n",
       "<table border=\"1\" class=\"dataframe\">\n",
       "  <thead>\n",
       "    <tr style=\"text-align: right;\">\n",
       "      <th></th>\n",
       "      <th>mpg</th>\n",
       "      <th>cylinders</th>\n",
       "      <th>displacement</th>\n",
       "      <th>horsepower</th>\n",
       "      <th>weight</th>\n",
       "      <th>acceleration</th>\n",
       "      <th>model year</th>\n",
       "      <th>origin</th>\n",
       "      <th>car name</th>\n",
       "    </tr>\n",
       "  </thead>\n",
       "  <tbody>\n",
       "    <tr>\n",
       "      <th>0</th>\n",
       "      <td>18</td>\n",
       "      <td>8</td>\n",
       "      <td>307</td>\n",
       "      <td>130</td>\n",
       "      <td>3504</td>\n",
       "      <td>12</td>\n",
       "      <td>70</td>\n",
       "      <td>1</td>\n",
       "      <td>chevrolet chevelle malibu</td>\n",
       "    </tr>\n",
       "    <tr>\n",
       "      <th>1</th>\n",
       "      <td>15</td>\n",
       "      <td>8</td>\n",
       "      <td>350</td>\n",
       "      <td>165</td>\n",
       "      <td>3693</td>\n",
       "      <td>115</td>\n",
       "      <td>70</td>\n",
       "      <td>1</td>\n",
       "      <td>buick skylark 320</td>\n",
       "    </tr>\n",
       "    <tr>\n",
       "      <th>2</th>\n",
       "      <td>18</td>\n",
       "      <td>8</td>\n",
       "      <td>318</td>\n",
       "      <td>150</td>\n",
       "      <td>3436</td>\n",
       "      <td>11</td>\n",
       "      <td>70</td>\n",
       "      <td>1</td>\n",
       "      <td>plymouth satellite</td>\n",
       "    </tr>\n",
       "    <tr>\n",
       "      <th>3</th>\n",
       "      <td>16</td>\n",
       "      <td>8</td>\n",
       "      <td>304</td>\n",
       "      <td>150</td>\n",
       "      <td>3433</td>\n",
       "      <td>12</td>\n",
       "      <td>70</td>\n",
       "      <td>1</td>\n",
       "      <td>amc rebel sst</td>\n",
       "    </tr>\n",
       "    <tr>\n",
       "      <th>4</th>\n",
       "      <td>17</td>\n",
       "      <td>8</td>\n",
       "      <td>302</td>\n",
       "      <td>140</td>\n",
       "      <td>3449</td>\n",
       "      <td>105</td>\n",
       "      <td>70</td>\n",
       "      <td>1</td>\n",
       "      <td>ford torino</td>\n",
       "    </tr>\n",
       "  </tbody>\n",
       "</table>\n",
       "</div>"
      ],
      "text/plain": [
       "   mpg  cylinders  displacement  horsepower  weight  acceleration  model year  \\\n",
       "0   18          8           307         130    3504            12          70   \n",
       "1   15          8           350         165    3693           115          70   \n",
       "2   18          8           318         150    3436            11          70   \n",
       "3   16          8           304         150    3433            12          70   \n",
       "4   17          8           302         140    3449           105          70   \n",
       "\n",
       "   origin                   car name  \n",
       "0       1  chevrolet chevelle malibu  \n",
       "1       1          buick skylark 320  \n",
       "2       1         plymouth satellite  \n",
       "3       1              amc rebel sst  \n",
       "4       1                ford torino  "
      ]
     },
     "execution_count": 6,
     "metadata": {},
     "output_type": "execute_result"
    }
   ],
   "source": [
    "dataset = '/workspaces/2025-2-minf-0701-projeto-ReverieJacket/dataset/Carros - Página1.csv'\n",
    "\n",
    "cdata = pd.read_csv(dataset)\n",
    "cdata.head()"
   ]
  },
  {
   "cell_type": "markdown",
   "id": "06715887",
   "metadata": {},
   "source": [
    "Tratamento de dados"
   ]
  },
  {
   "cell_type": "code",
   "execution_count": 7,
   "id": "4fdea07f",
   "metadata": {},
   "outputs": [
    {
     "name": "stdout",
     "output_type": "stream",
     "text": [
      "<class 'pandas.core.frame.DataFrame'>\n",
      "RangeIndex: 392 entries, 0 to 391\n",
      "Data columns (total 9 columns):\n",
      " #   Column        Non-Null Count  Dtype \n",
      "---  ------        --------------  ----- \n",
      " 0   mpg           392 non-null    int64 \n",
      " 1   cylinders     392 non-null    int64 \n",
      " 2   displacement  392 non-null    int64 \n",
      " 3   horsepower    392 non-null    int64 \n",
      " 4   weight        392 non-null    int64 \n",
      " 5   acceleration  392 non-null    int64 \n",
      " 6   model year    392 non-null    int64 \n",
      " 7   origin        392 non-null    int64 \n",
      " 8   car name      392 non-null    object\n",
      "dtypes: int64(8), object(1)\n",
      "memory usage: 27.7+ KB\n"
     ]
    }
   ],
   "source": [
    "cdata.info()"
   ]
  },
  {
   "cell_type": "markdown",
   "id": "4eef4691",
   "metadata": {},
   "source": [
    "Divisão de dados"
   ]
  },
  {
   "cell_type": "code",
   "execution_count": 8,
   "id": "cd6081d7",
   "metadata": {},
   "outputs": [],
   "source": [
    "def standardize_data(X):\n",
    "    # 1. Calcule a média de cada coluna\n",
    "    mean_by_column = np.mean(X, axis=0)\n",
    "    \n",
    "    # 2. Calcule o desvio padrão de cada coluna\n",
    "    std_by_column = np.std(X, axis=0)\n",
    "\n",
    "    # 3. Evite a divisão por zero em colunas com desvio padrão zero\n",
    "    # Substitua desvios padrão zero por 1 para evitar problemas\n",
    "    # A transformação (x - mean) / 1 resultará em (x - mean), que será 0,\n",
    "    # já que x e mean são iguais quando o desvio padrão é zero.\n",
    "    std_by_column[std_by_column == 0] = 1\n",
    "\n",
    "    # 4. Padronize os dados aplicando a fórmula\n",
    "    X_scaled = (X - mean_by_column) / std_by_column\n",
    "\n",
    "    return X_scaled, mean_by_column, std_by_column"
   ]
  },
  {
   "cell_type": "code",
   "execution_count": 9,
   "id": "76edf1aa",
   "metadata": {},
   "outputs": [],
   "source": [
    "cd = cdata.drop(['car name', \"origin\"], axis=1)\n",
    "\n",
    "cd, _, _ = standardize_data(cd)\n",
    "\n",
    "# Variáveis independentes (características)\n",
    "X = cd.drop(['mpg'], axis=1)\n",
    "\n",
    "# Variável dependente (alvo)\n",
    "y = cd['mpg']"
   ]
  },
  {
   "cell_type": "code",
   "execution_count": 10,
   "id": "ead029b2",
   "metadata": {},
   "outputs": [
    {
     "data": {
      "text/plain": [
       "\"\\n# Adiciona a constante\\nX_np = X.values\\n\\n# 2. Adicione uma coluna de 1s (a constante) na primeira posição (índice 0)\\nX_com_constante = np.insert(X_np, 0, 1, axis=1)\\n\\n# converter o resultado de volta para um DataFrame\\n# para manter a estrutura e os nomes das colunas\\ncolunas = ['constante'] + list(X.columns)\\nX = pd.DataFrame(X_com_constante, columns=colunas)\\n\\n# Veja como ficou o novo DataFrame X\\nX.head()\\n\\n\""
      ]
     },
     "execution_count": 10,
     "metadata": {},
     "output_type": "execute_result"
    }
   ],
   "source": [
    "'''\n",
    "# Adiciona a constante\n",
    "X_np = X.values\n",
    "\n",
    "# 2. Adicione uma coluna de 1s (a constante) na primeira posição (índice 0)\n",
    "X_com_constante = np.insert(X_np, 0, 1, axis=1)\n",
    "\n",
    "# converter o resultado de volta para um DataFrame\n",
    "# para manter a estrutura e os nomes das colunas\n",
    "colunas = ['constante'] + list(X.columns)\n",
    "X = pd.DataFrame(X_com_constante, columns=colunas)\n",
    "\n",
    "# Veja como ficou o novo DataFrame X\n",
    "X.head()\n",
    "\n",
    "'''"
   ]
  },
  {
   "cell_type": "code",
   "execution_count": 11,
   "id": "b9d35b30",
   "metadata": {},
   "outputs": [
    {
     "data": {
      "text/plain": [
       "0   -0.709004\n",
       "1   -0.733061\n",
       "2   -0.709004\n",
       "3   -0.725042\n",
       "4   -0.717023\n",
       "Name: mpg, dtype: float64"
      ]
     },
     "execution_count": 11,
     "metadata": {},
     "output_type": "execute_result"
    }
   ],
   "source": [
    "y.head()"
   ]
  },
  {
   "cell_type": "markdown",
   "id": "36721783",
   "metadata": {},
   "source": [
    "---------------------------------------------------------------------------------------------------"
   ]
  },
  {
   "cell_type": "markdown",
   "id": "c9030be7",
   "metadata": {},
   "source": [
    "**Normalização**"
   ]
  },
  {
   "cell_type": "code",
   "execution_count": 12,
   "id": "90af8f07",
   "metadata": {},
   "outputs": [
    {
     "name": "stdout",
     "output_type": "stream",
     "text": [
      "Tamanho do conjunto de treino (X_train): 274\n",
      "Tamanho do conjunto de teste (X_test): 118\n"
     ]
    }
   ],
   "source": [
    "data = pd.concat([X, y], axis=1)\n",
    "\n",
    "# 2. Embaralhe (randomize) a ordem das linhas\n",
    "data_shuffled = data.sample(frac=1, random_state=1).reset_index(drop=True)\n",
    "\n",
    "# 3. Calcule o tamanho dos conjuntos de treino e teste\n",
    "test_size = 0.3\n",
    "total_rows = len(data_shuffled)\n",
    "train_split = int(total_rows * (1 - test_size))\n",
    "\n",
    "# 4. Divida os dados embaralhados\n",
    "train_data = data_shuffled.iloc[:train_split]\n",
    "test_data = data_shuffled.iloc[train_split:]\n",
    "\n",
    "# 5. Separe novamente as variáveis X e y\n",
    "X_train = train_data.drop('mpg', axis=1)\n",
    "y_train = train_data['mpg']\n",
    "\n",
    "X_test = test_data.drop('mpg', axis=1)\n",
    "y_test = test_data['mpg']\n",
    "\n",
    "# Verifique o tamanho de cada conjunto para confirmar\n",
    "print(f\"Tamanho do conjunto de treino (X_train): {len(X_train)}\")\n",
    "print(f\"Tamanho do conjunto de teste (X_test): {len(X_test)}\")\n"
   ]
  },
  {
   "cell_type": "code",
   "execution_count": 13,
   "id": "747332bc",
   "metadata": {},
   "outputs": [
    {
     "data": {
      "text/html": [
       "<div>\n",
       "<style scoped>\n",
       "    .dataframe tbody tr th:only-of-type {\n",
       "        vertical-align: middle;\n",
       "    }\n",
       "\n",
       "    .dataframe tbody tr th {\n",
       "        vertical-align: top;\n",
       "    }\n",
       "\n",
       "    .dataframe thead th {\n",
       "        text-align: right;\n",
       "    }\n",
       "</style>\n",
       "<table border=\"1\" class=\"dataframe\">\n",
       "  <thead>\n",
       "    <tr style=\"text-align: right;\">\n",
       "      <th></th>\n",
       "      <th>cylinders</th>\n",
       "      <th>displacement</th>\n",
       "      <th>horsepower</th>\n",
       "      <th>weight</th>\n",
       "      <th>acceleration</th>\n",
       "      <th>model year</th>\n",
       "    </tr>\n",
       "  </thead>\n",
       "  <tbody>\n",
       "    <tr>\n",
       "      <th>0</th>\n",
       "      <td>-0.864014</td>\n",
       "      <td>-0.687018</td>\n",
       "      <td>-0.194303</td>\n",
       "      <td>-0.555905</td>\n",
       "      <td>0.440436</td>\n",
       "      <td>-1.081695</td>\n",
       "    </tr>\n",
       "    <tr>\n",
       "      <th>1</th>\n",
       "      <td>-0.864014</td>\n",
       "      <td>-0.893167</td>\n",
       "      <td>-0.766593</td>\n",
       "      <td>-0.950804</td>\n",
       "      <td>-1.426609</td>\n",
       "      <td>-0.266263</td>\n",
       "    </tr>\n",
       "    <tr>\n",
       "      <th>2</th>\n",
       "      <td>-0.864014</td>\n",
       "      <td>-0.794574</td>\n",
       "      <td>-0.766593</td>\n",
       "      <td>-0.739798</td>\n",
       "      <td>0.773320</td>\n",
       "      <td>1.364599</td>\n",
       "    </tr>\n",
       "    <tr>\n",
       "      <th>3</th>\n",
       "      <td>-0.864014</td>\n",
       "      <td>-0.678055</td>\n",
       "      <td>0.195895</td>\n",
       "      <td>-0.129178</td>\n",
       "      <td>0.585168</td>\n",
       "      <td>-0.809884</td>\n",
       "    </tr>\n",
       "    <tr>\n",
       "      <th>4</th>\n",
       "      <td>-0.864014</td>\n",
       "      <td>-0.946944</td>\n",
       "      <td>-0.974698</td>\n",
       "      <td>-1.158273</td>\n",
       "      <td>0.686481</td>\n",
       "      <td>1.636410</td>\n",
       "    </tr>\n",
       "  </tbody>\n",
       "</table>\n",
       "</div>"
      ],
      "text/plain": [
       "   cylinders  displacement  horsepower    weight  acceleration  model year\n",
       "0  -0.864014     -0.687018   -0.194303 -0.555905      0.440436   -1.081695\n",
       "1  -0.864014     -0.893167   -0.766593 -0.950804     -1.426609   -0.266263\n",
       "2  -0.864014     -0.794574   -0.766593 -0.739798      0.773320    1.364599\n",
       "3  -0.864014     -0.678055    0.195895 -0.129178      0.585168   -0.809884\n",
       "4  -0.864014     -0.946944   -0.974698 -1.158273      0.686481    1.636410"
      ]
     },
     "execution_count": 13,
     "metadata": {},
     "output_type": "execute_result"
    }
   ],
   "source": [
    "X_train.head()"
   ]
  },
  {
   "cell_type": "code",
   "execution_count": 14,
   "id": "5dca64db",
   "metadata": {},
   "outputs": [
    {
     "data": {
      "text/html": [
       "<div>\n",
       "<style scoped>\n",
       "    .dataframe tbody tr th:only-of-type {\n",
       "        vertical-align: middle;\n",
       "    }\n",
       "\n",
       "    .dataframe tbody tr th {\n",
       "        vertical-align: top;\n",
       "    }\n",
       "\n",
       "    .dataframe thead th {\n",
       "        text-align: right;\n",
       "    }\n",
       "</style>\n",
       "<table border=\"1\" class=\"dataframe\">\n",
       "  <thead>\n",
       "    <tr style=\"text-align: right;\">\n",
       "      <th></th>\n",
       "      <th>cylinders</th>\n",
       "      <th>displacement</th>\n",
       "      <th>horsepower</th>\n",
       "      <th>weight</th>\n",
       "      <th>acceleration</th>\n",
       "      <th>model year</th>\n",
       "    </tr>\n",
       "  </thead>\n",
       "  <tbody>\n",
       "    <tr>\n",
       "      <th>274</th>\n",
       "      <td>1.483947</td>\n",
       "      <td>1.822619</td>\n",
       "      <td>1.626621</td>\n",
       "      <td>2.273222</td>\n",
       "      <td>0.150972</td>\n",
       "      <td>-0.809884</td>\n",
       "    </tr>\n",
       "    <tr>\n",
       "      <th>275</th>\n",
       "      <td>1.483947</td>\n",
       "      <td>0.567801</td>\n",
       "      <td>0.143869</td>\n",
       "      <td>1.275955</td>\n",
       "      <td>-1.383189</td>\n",
       "      <td>0.277358</td>\n",
       "    </tr>\n",
       "    <tr>\n",
       "      <th>276</th>\n",
       "      <td>-0.864014</td>\n",
       "      <td>-0.507758</td>\n",
       "      <td>-0.766593</td>\n",
       "      <td>-0.513468</td>\n",
       "      <td>-1.412135</td>\n",
       "      <td>-0.538074</td>\n",
       "    </tr>\n",
       "    <tr>\n",
       "      <th>277</th>\n",
       "      <td>1.483947</td>\n",
       "      <td>0.944246</td>\n",
       "      <td>0.638120</td>\n",
       "      <td>0.881056</td>\n",
       "      <td>0.281231</td>\n",
       "      <td>0.820978</td>\n",
       "    </tr>\n",
       "    <tr>\n",
       "      <th>278</th>\n",
       "      <td>-0.864014</td>\n",
       "      <td>-0.669092</td>\n",
       "      <td>-0.480448</td>\n",
       "      <td>-0.885969</td>\n",
       "      <td>0.729901</td>\n",
       "      <td>-1.081695</td>\n",
       "    </tr>\n",
       "  </tbody>\n",
       "</table>\n",
       "</div>"
      ],
      "text/plain": [
       "     cylinders  displacement  horsepower    weight  acceleration  model year\n",
       "274   1.483947      1.822619    1.626621  2.273222      0.150972   -0.809884\n",
       "275   1.483947      0.567801    0.143869  1.275955     -1.383189    0.277358\n",
       "276  -0.864014     -0.507758   -0.766593 -0.513468     -1.412135   -0.538074\n",
       "277   1.483947      0.944246    0.638120  0.881056      0.281231    0.820978\n",
       "278  -0.864014     -0.669092   -0.480448 -0.885969      0.729901   -1.081695"
      ]
     },
     "execution_count": 14,
     "metadata": {},
     "output_type": "execute_result"
    }
   ],
   "source": [
    "X_test.head()"
   ]
  },
  {
   "cell_type": "markdown",
   "id": "3e65da43",
   "metadata": {},
   "source": [
    "Treino de modelo Linear"
   ]
  },
  {
   "cell_type": "code",
   "execution_count": 15,
   "id": "c9bfc13f",
   "metadata": {},
   "outputs": [
    {
     "data": {
      "image/png": "[encoded data removed]",
      "text/plain": [
       "<Figure size 640x480 with 1 Axes>"
      ]
     },
     "metadata": {},
     "output_type": "display_data"
    }
   ],
   "source": [
    "fig, ax = plt.subplots(1, 1)\n",
    "\n",
    "plt.scatter(X_train['horsepower'], y_train, alpha=0.5)\n",
    "\n",
    "# Adicionar rótulos e título\n",
    "plt.xlabel('horsepower')\n",
    "plt.ylabel('mpg')\n",
    "plt.title('horsepower vs. mpg')\n",
    "\n",
    "plt.show()"
   ]
  },
  {
   "cell_type": "code",
   "execution_count": 16,
   "id": "1b22b4d2",
   "metadata": {},
   "outputs": [
    {
     "name": "stdout",
     "output_type": "stream",
     "text": [
      "Pesos Finais: [[ 0.00039689]\n",
      " [-0.00616906]\n",
      " [-0.00629624]\n",
      " [-0.00634343]\n",
      " [-0.00560888]\n",
      " [ 0.00640838]\n",
      " [ 0.01259706]]\n"
     ]
    }
   ],
   "source": [
    "# Importe suas classes personalizadas\n",
    "from src.optimizers import SteepestDescentMethod\n",
    "from src.models import LinearModel\n",
    "from src.algorithms import PLA \n",
    "from src.stop_criteria import MaxIterationStopCriteria\n",
    "\n",
    "#critério de parada\n",
    "learning_rate =  0.00001  #Lambida\n",
    "max_iterations = 1000  \n",
    "\n",
    "optimizer = SteepestDescentMethod(learning_rate=learning_rate)\n",
    "model = LinearModel()\n",
    "algoritmo = PLA(optimizer, model)\n",
    "stop_criteria = MaxIterationStopCriteria(max_iteration=max_iterations)\n",
    "\n",
    "X_Float = X_test.to_numpy(dtype=np.float64)\n",
    "y_linha = y_test.values.reshape(-1,1) #transforma y em linha \n",
    "\n",
    "algoritmo.fit(X_Float, y_linha, stop_criteria)\n",
    "\n",
    "final_weights = algoritmo.model.w\n",
    "print(\"Pesos Finais:\", final_weights)"
   ]
  },
  {
   "cell_type": "code",
   "execution_count": 17,
   "id": "faf6e66c",
   "metadata": {},
   "outputs": [],
   "source": [
    "from src.algorithms import PLA\n",
    "from src.models import LinearModel\n",
    "from src.optimizers import SteepestDescentMethod\n",
    "from src.analyzers import PlotterAlgorithmObserver\n",
    "from src.stop_criteria import CompositeStopCriteria, MaxIterationStopCriteria, MinErrorStopCriteria"
   ]
  },
  {
   "cell_type": "code",
   "execution_count": 18,
   "id": "d965ea38",
   "metadata": {},
   "outputs": [],
   "source": [
    "def plot_strategy(optimizer, learning_rate):\n",
    "    model = LinearModel()\n",
    "    alg = PLA(optimizer, model)\n",
    "    min_error = 0.75\n",
    "    max_iteration = 10000\n",
    "\n",
    "    stop_criteria = CompositeStopCriteria()\n",
    "    stop_criteria.add(MinErrorStopCriteria(min_error=min_error))\n",
    "    stop_criteria.add(MaxIterationStopCriteria(max_iteration=max_iteration))\n",
    "\n",
    "    analyzer = PlotterAlgorithmObserver()\n",
    "    alg.add(analyzer)\n",
    "\n",
    "    y_linha = y_test.values.reshape(-1,1)\n",
    "    alg.fit(X_test, y_linha, stop_criteria)\n",
    "\n",
    "    final_iteration = max(analyzer.iterations)\n",
    "    print(f\"Final Iteration: {final_iteration}\")\n",
    "    print(f\"Final Error: {analyzer.errors[-1]}\")\n",
    "    print(f\"Final Weights: {analyzer.weights[-1]}\")\n",
    "    \n",
    "    analyzer.plot(weights=alg.model.w)"
   ]
  },
  {
   "cell_type": "code",
   "execution_count": 19,
   "id": "5e8c2694",
   "metadata": {},
   "outputs": [
    {
     "name": "stdout",
     "output_type": "stream",
     "text": [
      "Final Iteration: 1153\n",
      "Final Error: [[0.7500102]]\n",
      "Final Weights: [[ 0.00388778]\n",
      " [-0.04480347]\n",
      " [-0.04472541]\n",
      " [-0.04588134]\n",
      " [-0.03937538]\n",
      " [ 0.05439447]\n",
      " [ 0.12130874]]\n"
     ]
    },
    {
     "data": {
      "image/png": "[encoded data removed]",
      "text/plain": [
       "<Figure size 640x480 with 2 Axes>"
      ]
     },
     "metadata": {},
     "output_type": "display_data"
    }
   ],
   "source": [
    "learning_rate = 0.0001\n",
    "optimizer = SteepestDescentMethod(learning_rate)\n",
    "plot_strategy(optimizer, learning_rate)"
   ]
  }
 ],
 "metadata": {
  "kernelspec": {
   "display_name": "Python 3",
   "language": "python",
   "name": "python3"
  },
  "language_info": {
   "codemirror_mode": {
    "name": "ipython",
    "version": 3
   },
   "file_extension": ".py",
   "mimetype": "text/x-python",
   "name": "python",
   "nbconvert_exporter": "python",
   "pygments_lexer": "ipython3",
   "version": "3.13.7"
  }
 },
 "nbformat": 4,
 "nbformat_minor": 5
}
